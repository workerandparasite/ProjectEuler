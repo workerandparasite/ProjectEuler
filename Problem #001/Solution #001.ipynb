{
 "cells": [
  {
   "cell_type": "markdown",
   "metadata": {},
   "source": [
    "Multiples of 3 and 5 \n",
    "====================\n",
    "\n",
    "The problem statement is: \n",
    "\n",
    "_\"If we list all the natural numbers below 10 that are multiples of 3 or 5, we get 3, 5, 6 and 9. The sum of these multiples is 23._\n",
    "\n",
    "_Find the sum of all the multiples of 3 or 5 below 1000.\"_\n",
    "\n",
    "Even a so simple problem could produce a few headaches without a proper analysis before tackle it.\n",
    "\n",
    "First, we would proceed with the _\"classical\"_ solution, iterating over all the values and obtaining an efficiency of _O(n)_:\n"
   ]
  },
  {
   "cell_type": "code",
   "execution_count": 1,
   "metadata": {
    "collapsed": false
   },
   "outputs": [
    {
     "name": "stdout",
     "output_type": "stream",
     "text": [
      "The sum is 33.\n"
     ]
    }
   ],
   "source": [
    "n = 10 # Let's assume a n value of 10\n",
    "\n",
    "sum = 0\n",
    "for i in range(1,n+1):\n",
    "    if (i % 3 == 0) or (i % 5 == 0):\n",
    "       sum = sum + i \n",
    "\n",
    "print (\"The sum is \" + str(sum) + \".\") "
   ]
  },
  {
   "cell_type": "markdown",
   "metadata": {},
   "source": [
    "A good solution, but with a little high school algebra the efficiency could be improved to _O(1)_.\n",
    "\n",
    "### Some maths before continuing...\n",
    "\n",
    "Let's remember the definition of an arithmetic progression:\n",
    "\n",
    "_\"In mathematics, an **arithmetic progression (AP)** or **arithmetic sequence** is a sequence of numbers such that the difference between the consecutive terms is constant. For instance, the sequence 5, 7, 9, 11, 13, 15 … is an arithmetic progression with common difference of 2.\"_ \n",
    "\n",
    "_[...]_\n",
    "\n",
    "_The sum of the members of a finite arithmetic progression is called an arithmetic series. For example, consider the sum:_\n",
    "\n",
    "_2 + 5 + 8 + 11 + 14 + ..._\n",
    "\n",
    "_This sum can be found quickly by taking the number n of terms being added (here 5), multiplying by the sum of the first and last number in the progression (here 2 + 14 = 16), and dividing by 2.\"_ \n",
    "\n",
    "![AP sum equation](https://wikimedia.org/api/rest_v1/media/math/render/svg/451ac6091a7a5a30b17a50aec671425d45e166db)\n",
    "\n",
    "_(More information in_ https://en.wikipedia.org/wiki/Arithmetic_progression)\n",
    "\n",
    "Let's define the function to calculate the sum of an arithmetic progression:\n"
   ]
  },
  {
   "cell_type": "code",
   "execution_count": 2,
   "metadata": {
    "collapsed": false
   },
   "outputs": [
    {
     "name": "stdout",
     "output_type": "stream",
     "text": [
      "For n = 10, multiples = 1, result = 55.\n",
      "For n = 10, multiples = 3, result = 18.\n",
      "For n = 10, multiples = 5, result = 15.\n",
      "For n = 10, multiples = 15, result = 0.\n",
      "For n = 30, multiples = 1, result = 465.\n",
      "For n = 30, multiples = 3, result = 165.\n",
      "For n = 30, multiples = 5, result = 105.\n",
      "For n = 30, multiples = 15, result = 45.\n",
      "For n = 50, multiples = 1, result = 1275.\n",
      "For n = 50, multiples = 3, result = 408.\n",
      "For n = 50, multiples = 5, result = 275.\n",
      "For n = 50, multiples = 15, result = 90.\n"
     ]
    }
   ],
   "source": [
    "def s(n, multiple=1):\n",
    "    return ((n//multiple)*(multiple+(multiple*(n//multiple))))//2\n",
    "\n",
    "# Some examples\n",
    "print(\"For n = 10, multiples = 1, result = \" + str(s(10, 1)) + \".\")\n",
    "print(\"For n = 10, multiples = 3, result = \" + str(s(10, 3)) + \".\")\n",
    "print(\"For n = 10, multiples = 5, result = \" + str(s(10, 5)) + \".\")\n",
    "print(\"For n = 10, multiples = 15, result = \" + str(s(10, 15)) + \".\")\n",
    "print(\"For n = 30, multiples = 1, result = \" + str(s(30, 1)) + \".\")\n",
    "print(\"For n = 30, multiples = 3, result = \" + str(s(30, 3)) + \".\")\n",
    "print(\"For n = 30, multiples = 5, result = \" + str(s(30, 5)) + \".\")\n",
    "print(\"For n = 30, multiples = 15, result = \" + str(s(30, 15)) + \".\")\n",
    "print(\"For n = 50, multiples = 1, result = \" + str(s(50, 1)) + \".\")\n",
    "print(\"For n = 50, multiples = 3, result = \" + str(s(50, 3)) + \".\")\n",
    "print(\"For n = 50, multiples = 5, result = \" + str(s(50, 5)) + \".\")\n",
    "print(\"For n = 50, multiples = 15, result = \" + str(s(50, 15)) + \".\")"
   ]
  },
  {
   "cell_type": "markdown",
   "metadata": {},
   "source": [
    "### Summing-up!\n",
    "\n",
    "The multiples of 3 form an arithmetic progression as\n",
    "\n",
    "_3, 6, 9, 12, 15,..._\n",
    "\n",
    "The multiples of 5 also form an arithmetic progression as\n",
    "\n",
    "_5, 10, 15, 20, 25..._\n",
    "\n",
    "The sum of (1) and (2) is\n",
    "\n",
    "_3, 5, 6, 9, 10, 12, 15, **15**, 18, 20,..._\n",
    "\n",
    "The number 15 is added twice cause is is multiple of 3 and 5. All the numbers that are multiples of 3 **and** 5 should be removed from the sum of the arithmetic progressions of 3 and 5.\n",
    "\n",
    "Finally, putting everything together we have the function for the calculation of the multiples of 3 and 5 given a n integer:"
   ]
  },
  {
   "cell_type": "code",
   "execution_count": 3,
   "metadata": {
    "collapsed": false
   },
   "outputs": [
    {
     "name": "stdout",
     "output_type": "stream",
     "text": [
      "The result is 33.\n"
     ]
    }
   ],
   "source": [
    "n = 10 # Let's assume a n value of 10\n",
    "\n",
    "result = s(n, 3) + s(n, 5) - s(n, 15) # Sum of multiples of 3 + sum of multiples of 5 - sum of multiples of 3 AND 5\n",
    "\n",
    "print(\"The result is \" + str(result) + \".\")"
   ]
  }
 ],
 "metadata": {
  "kernelspec": {
   "display_name": "Python 3",
   "language": "python",
   "name": "python3"
  },
  "language_info": {
   "codemirror_mode": {
    "name": "ipython",
    "version": 3
   },
   "file_extension": ".py",
   "mimetype": "text/x-python",
   "name": "python",
   "nbconvert_exporter": "python",
   "pygments_lexer": "ipython3",
   "version": "3.5.1"
  }
 },
 "nbformat": 4,
 "nbformat_minor": 0
}
