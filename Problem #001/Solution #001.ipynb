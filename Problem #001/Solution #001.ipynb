{
 "cells": [
  {
   "cell_type": "markdown",
   "metadata": {},
   "source": [
    "Multiples of 3 and 5 \n",
    "====================\n",
    "\n",
    "The problem statement is: \n",
    "\n",
    "_\"If we list all the natural numbers below 10 that are multiples of 3 or 5, we get 3, 5, 6 and 9. The sum of these multiples is 23._\n",
    "\n",
    "_Find the sum of all the multiples of 3 or 5 below 1000.\"_\n",
    "\n",
    "Even a so simple problem could produce a few headaches without a proper analysis before tackle it.\n",
    "\n",
    "First, we would proceed with the _\"classical\"_ solution, iterating over all the values and obtaining an efficiency of _O(n)_:\n"
   ]
  },
  {
   "cell_type": "code",
   "execution_count": 1,
   "metadata": {
    "collapsed": false
   },
   "outputs": [
    {
     "name": "stdout",
     "output_type": "stream",
     "text": [
      "The sum is 23.\n"
     ]
    }
   ],
   "source": [
    "n = 10 # Let's assume a n value of 10\n",
    "\n",
    "sum = 0\n",
    "for i in range(1,n):\n",
    "    if (i % 3 == 0) or (i % 5 == 0):\n",
    "       sum = sum + i \n",
    "    \n",
    "print(\"The sum is \" + str(sum) + \".\")"
   ]
  },
  {
   "cell_type": "markdown",
   "metadata": {},
   "source": [
    "A good solution, but with a little high school algebra the efficiency could be improved to _O(1)_.\n",
    "\n",
    "### Some maths before continuing...\n",
    "\n",
    "Let's remember the definition of an arithmetic progression:\n",
    "\n",
    "_\"In mathematics, an **arithmetic progression (AP)** or **arithmetic sequence** is a sequence of numbers such that the difference between the consecutive terms is constant. For instance, the sequence 5, 7, 9, 11, 13, 15 … is an arithmetic progression with common difference of 2.\"_ (https://en.wikipedia.org/wiki/Arithmetic_progression)\n",
    "\n",
    "The multiples of 3 form an arithmetic progression as\n",
    "\n",
    "_3, 6, 9, 12, 15,..._\n",
    "\n",
    "The multiples of 5 also form an arithmetic progression as\n",
    "\n",
    "_5, 10, 15, 20, 25..._\n",
    "\n",
    "The sum of (1) and (2) is\n",
    "\n",
    "_3, 5, 6, 9, 10, 12, 15, **15**, 18, 20,..._\n",
    "\n",
    "The number 15 is added twice cause is is multiple of 3 and 5. All the numbers that are multiples of 3 **and** 5 should be removed from the sum of the arithmetic progressions of 3 and 5.\n"
   ]
  }
 ],
 "metadata": {
  "kernelspec": {
   "display_name": "Python 3",
   "language": "python",
   "name": "python3"
  },
  "language_info": {
   "codemirror_mode": {
    "name": "ipython",
    "version": 3
   },
   "file_extension": ".py",
   "mimetype": "text/x-python",
   "name": "python",
   "nbconvert_exporter": "python",
   "pygments_lexer": "ipython3",
   "version": "3.5.1"
  }
 },
 "nbformat": 4,
 "nbformat_minor": 0
}
